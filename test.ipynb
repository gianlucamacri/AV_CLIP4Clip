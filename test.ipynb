{
 "cells": [
  {
   "cell_type": "markdown",
   "metadata": {},
   "source": [
    "This is a simple test notebook to check for the correct working of the edits I do on the main code. Note that for this to be working without any headaches and without braking import for the other code without \"path magics\" this code **needs** to be in this directory."
   ]
  },
  {
   "cell_type": "code",
   "execution_count": 2,
   "metadata": {},
   "outputs": [],
   "source": [
    "# setup autoreload\n",
    "%load_ext autoreload\n",
    "%autoreload 2"
   ]
  },
  {
   "cell_type": "code",
   "execution_count": 3,
   "metadata": {},
   "outputs": [],
   "source": [
    "from dataloaders.data_dataloaders import dataloader_artistic_videos_test, dataloader_artistic_videos_train\n",
    "from modules.tokenization_clip import SimpleTokenizer as ClipTokenizer"
   ]
  },
  {
   "cell_type": "code",
   "execution_count": 7,
   "metadata": {},
   "outputs": [],
   "source": [
    "class Args:\n",
    "    def __init__(self):\n",
    "        self.metadata_fn = \"metadata_no_accents.json\"\n",
    "        self.video_dir = \"compressedVideos\"\n",
    "        self.split = '75_5_10_split_3strat_cap_75'\n",
    "        self.merge_test_val = False\n",
    "        self.max_words = 512 # ?\n",
    "        self.feature_framerate = 1\n",
    "        self.max_frames = 1 #?\n",
    "        self.eval_frame_order = 0\n",
    "        self.train_frame_order = 0\n",
    "        self.slice_framepos = 0\n",
    "        self.batch_size_val = 1\n",
    "        self.num_thread_reader = 1\n",
    "        self.use_caching = False\n",
    "        self.logger=None\n",
    "\n",
    "args = Args()\n",
    "tokenizer = ClipTokenizer()\n",
    "test_dataloader, n = dataloader_artistic_videos_test(args, tokenizer, subset='test')\n",
    "#train_dataloader, n = dataloader_artistic_videos_train(args, tokenizer)"
   ]
  },
  {
   "cell_type": "code",
   "execution_count": 8,
   "metadata": {},
   "outputs": [],
   "source": [
    "res = test_dataloader.dataset.__getitem__(3)"
   ]
  },
  {
   "cell_type": "code",
   "execution_count": 9,
   "metadata": {},
   "outputs": [
    {
     "data": {
      "text/plain": [
       "'0011f2e2998f8f361adfd9552630f187'"
      ]
     },
     "execution_count": 9,
     "metadata": {},
     "output_type": "execute_result"
    }
   ],
   "source": [
    "test_dataloader.dataset.getVideoIds()[3]"
   ]
  },
  {
   "cell_type": "code",
   "execution_count": 5,
   "metadata": {},
   "outputs": [
    {
     "data": {
      "text/plain": [
       "[(1, 77), (1, 77), (1, 77), (1, 1, 1, 3, 224, 224), (1, 1)]"
      ]
     },
     "execution_count": 5,
     "metadata": {},
     "output_type": "execute_result"
    }
   ],
   "source": [
    "[el.shape for el in res]"
   ]
  },
  {
   "cell_type": "code",
   "execution_count": 7,
   "metadata": {},
   "outputs": [
    {
     "data": {
      "text/plain": [
       "[dtype('int64'),\n",
       " dtype('int64'),\n",
       " dtype('int64'),\n",
       " dtype('float64'),\n",
       " dtype('int64')]"
      ]
     },
     "execution_count": 7,
     "metadata": {},
     "output_type": "execute_result"
    }
   ],
   "source": [
    "[el.dtype for el in res]"
   ]
  },
  {
   "cell_type": "code",
   "execution_count": 10,
   "metadata": {},
   "outputs": [
    {
     "data": {
      "text/plain": [
       "(array([[49406,   530,   899,   273,   271,   272,   272, 22589,  1455,\n",
       "           267, 11143,  3500,   267,   851, 29915,  9773,  1348,   899,\n",
       "           530,   268, 11639,   652,  3934,   267,   601,   899,  3500,\n",
       "           267,  2225,   267,   537,  1774,  4947, 26545,   537, 25276,\n",
       "          1358,   624, 13375,  2500,   518,  3750,   267, 23781,   775,\n",
       "           638,  5847,  7331,   269, 49407,     0,     0,     0,     0,\n",
       "             0,     0,     0,     0,     0,     0,     0,     0,     0,\n",
       "             0,     0,     0,     0,     0,     0,     0,     0,     0,\n",
       "             0,     0,     0,     0,     0]]),\n",
       " array([[1, 1, 1, 1, 1, 1, 1, 1, 1, 1, 1, 1, 1, 1, 1, 1, 1, 1, 1, 1, 1, 1,\n",
       "         1, 1, 1, 1, 1, 1, 1, 1, 1, 1, 1, 1, 1, 1, 1, 1, 1, 1, 1, 1, 1, 1,\n",
       "         1, 1, 1, 1, 1, 1, 0, 0, 0, 0, 0, 0, 0, 0, 0, 0, 0, 0, 0, 0, 0, 0,\n",
       "         0, 0, 0, 0, 0, 0, 0, 0, 0, 0, 0]]),\n",
       " array([[0, 0, 0, 0, 0, 0, 0, 0, 0, 0, 0, 0, 0, 0, 0, 0, 0, 0, 0, 0, 0, 0,\n",
       "         0, 0, 0, 0, 0, 0, 0, 0, 0, 0, 0, 0, 0, 0, 0, 0, 0, 0, 0, 0, 0, 0,\n",
       "         0, 0, 0, 0, 0, 0, 0, 0, 0, 0, 0, 0, 0, 0, 0, 0, 0, 0, 0, 0, 0, 0,\n",
       "         0, 0, 0, 0, 0, 0, 0, 0, 0, 0, 0]]),\n",
       " array([[[[[[ 1.40479279,  1.4631865 ,  1.47778499, ...,  1.90113926,\n",
       "              1.90113926,  1.90113926],\n",
       "            [ 1.40479279,  1.4631865 ,  1.47778499, ...,  1.90113926,\n",
       "              1.90113926,  1.90113926],\n",
       "            [ 1.41939127,  1.4631865 ,  1.47778499, ...,  1.90113926,\n",
       "              1.90113926,  1.90113926],\n",
       "            ...,\n",
       "            [ 1.24421012,  0.99603695,  0.70406842, ...,  0.99603695,\n",
       "              0.99603695,  0.96684009],\n",
       "            [ 1.08362746,  0.89384794,  0.58728105, ...,  0.98143852,\n",
       "              0.99603695,  0.93764323],\n",
       "            [ 0.99603695,  0.80625743,  0.49969047, ...,  0.95224166,\n",
       "              0.95224166,  0.9230448 ]],\n",
       " \n",
       "           [[ 1.74471283,  1.74471283,  1.75972056, ...,  2.04486823,\n",
       "              2.04486823,  2.04486823],\n",
       "            [ 1.74471283,  1.74471283,  1.75972056, ...,  2.04486823,\n",
       "              2.04486823,  2.04486823],\n",
       "            [ 1.7297051 ,  1.7297051 ,  1.74471283, ...,  2.04486823,\n",
       "              2.04486823,  2.04486823],\n",
       "            ...,\n",
       "            [ 1.03934777,  0.8592546 ,  0.55909926, ...,  0.88927013,\n",
       "              0.88927013,  0.88927013],\n",
       "            [ 0.87426239,  0.67916137,  0.36399829, ...,  0.88927013,\n",
       "              0.90427792,  0.87426239],\n",
       "            [ 0.78421575,  0.58911479,  0.27395168, ...,  0.8592546 ,\n",
       "              0.8592546 ,  0.8592546 ]],\n",
       " \n",
       "           [[ 1.56287444,  1.46333396,  1.47755396, ...,  2.11745691,\n",
       "              2.11745691,  2.11745691],\n",
       "            [ 1.56287444,  1.46333396,  1.47755396, ...,  2.11745691,\n",
       "              2.11745691,  2.11745691],\n",
       "            [ 1.53443432,  1.57709444,  1.59131455, ...,  2.11745691,\n",
       "              2.11745691,  2.11745691],\n",
       "            ...,\n",
       "            [ 0.68123037,  0.46792936,  0.18352796, ...,  0.7381106 ,\n",
       "              0.7381106 ,  0.69545043],\n",
       "            [ 0.52480966,  0.31150854,  0.01288717, ...,  0.66701031,\n",
       "              0.68123037,  0.63857013],\n",
       "            [ 0.43948925,  0.22618815, -0.07243322, ...,  0.63857013,\n",
       "              0.63857013,  0.62435007]]]]]]),\n",
       " array([[1]]))"
      ]
     },
     "execution_count": 10,
     "metadata": {},
     "output_type": "execute_result"
    }
   ],
   "source": [
    "res."
   ]
  }
 ],
 "metadata": {
  "kernelspec": {
   "display_name": "base",
   "language": "python",
   "name": "python3"
  },
  "language_info": {
   "codemirror_mode": {
    "name": "ipython",
    "version": 3
   },
   "file_extension": ".py",
   "mimetype": "text/x-python",
   "name": "python",
   "nbconvert_exporter": "python",
   "pygments_lexer": "ipython3",
   "version": "3.12.4"
  }
 },
 "nbformat": 4,
 "nbformat_minor": 2
}
