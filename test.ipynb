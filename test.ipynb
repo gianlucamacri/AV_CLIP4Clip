{
 "cells": [
  {
   "cell_type": "markdown",
   "metadata": {},
   "source": [
    "This is a simple test notebook to check for the correct working of the edits I do on the main code. Note that for this to be working without any headaches and without braking import for the other code without \"path magics\" this code **needs** to be in this directory."
   ]
  },
  {
   "cell_type": "code",
   "execution_count": 1,
   "metadata": {},
   "outputs": [],
   "source": [
    "# setup autoreload\n",
    "%load_ext autoreload\n",
    "%autoreload 2"
   ]
  },
  {
   "cell_type": "code",
   "execution_count": 2,
   "metadata": {},
   "outputs": [],
   "source": [
    "from dataloaders.data_dataloaders import dataloader_artistic_videos_test, dataloader_artistic_videos_train\n",
    "from modules.tokenization_clip import SimpleTokenizer as ClipTokenizer"
   ]
  },
  {
   "cell_type": "code",
   "execution_count": 3,
   "metadata": {},
   "outputs": [
    {
     "name": "stderr",
     "output_type": "stream",
     "text": [
      "WARNING:root:remove limit in data\n"
     ]
    }
   ],
   "source": [
    "class Args:\n",
    "    def __init__(self):\n",
    "        self.metadata_fn = \"metadata_no_accents.json\"\n",
    "        self.video_dir = \"compressedVideos\"\n",
    "        self.split = '75_5_10_split_3strat_cap_75'\n",
    "        self.merge_test_val = False\n",
    "        self.max_words = 512 # ?\n",
    "        self.feature_framerate = 1\n",
    "        self.max_frames = 1 #?\n",
    "        self.eval_frame_order = 0\n",
    "        self.train_frame_order = 0\n",
    "        self.slice_framepos = 0\n",
    "        self.batch_size_val = 1\n",
    "        self.num_thread_reader = 1\n",
    "        self.use_caching = False\n",
    "\n",
    "args = Args()\n",
    "tokenizer = ClipTokenizer()\n",
    "test_dataloader, n = dataloader_artistic_videos_test(args, tokenizer, subset='test')\n",
    "#train_dataloader, n = dataloader_artistic_videos_train(args, tokenizer)"
   ]
  },
  {
   "cell_type": "code",
   "execution_count": 4,
   "metadata": {},
   "outputs": [],
   "source": [
    "res = test_dataloader.dataset.__getitem__(1)"
   ]
  },
  {
   "cell_type": "code",
   "execution_count": 5,
   "metadata": {},
   "outputs": [
    {
     "data": {
      "text/plain": [
       "[(1, 77), (1, 77), (1, 77), (1, 1, 1, 3, 224, 224), (1, 1)]"
      ]
     },
     "execution_count": 5,
     "metadata": {},
     "output_type": "execute_result"
    }
   ],
   "source": [
    "[el.shape for el in res]"
   ]
  },
  {
   "cell_type": "code",
   "execution_count": 7,
   "metadata": {},
   "outputs": [
    {
     "data": {
      "text/plain": [
       "[dtype('int64'),\n",
       " dtype('int64'),\n",
       " dtype('int64'),\n",
       " dtype('float64'),\n",
       " dtype('int64')]"
      ]
     },
     "execution_count": 7,
     "metadata": {},
     "output_type": "execute_result"
    }
   ],
   "source": [
    "[el.dtype for el in res]"
   ]
  },
  {
   "cell_type": "code",
   "execution_count": 6,
   "metadata": {},
   "outputs": [
    {
     "data": {
      "text/plain": [
       "(array([[49406, 11639,   652, 19450,   736, 11063,   601,   320,  5285,\n",
       "           556,   518,  3750,   269, 49407,     0,     0,     0,     0,\n",
       "             0,     0,     0,     0,     0,     0,     0,     0,     0,\n",
       "             0,     0,     0,     0,     0,     0,     0,     0,     0,\n",
       "             0,     0,     0,     0,     0,     0,     0,     0,     0,\n",
       "             0,     0,     0,     0,     0,     0,     0,     0,     0,\n",
       "             0,     0,     0,     0,     0,     0,     0,     0,     0,\n",
       "             0,     0,     0,     0,     0,     0,     0,     0,     0,\n",
       "             0,     0,     0,     0,     0]]),\n",
       " array([[1, 1, 1, 1, 1, 1, 1, 1, 1, 1, 1, 1, 1, 1, 0, 0, 0, 0, 0, 0, 0, 0,\n",
       "         0, 0, 0, 0, 0, 0, 0, 0, 0, 0, 0, 0, 0, 0, 0, 0, 0, 0, 0, 0, 0, 0,\n",
       "         0, 0, 0, 0, 0, 0, 0, 0, 0, 0, 0, 0, 0, 0, 0, 0, 0, 0, 0, 0, 0, 0,\n",
       "         0, 0, 0, 0, 0, 0, 0, 0, 0, 0, 0]]),\n",
       " array([[0, 0, 0, 0, 0, 0, 0, 0, 0, 0, 0, 0, 0, 0, 0, 0, 0, 0, 0, 0, 0, 0,\n",
       "         0, 0, 0, 0, 0, 0, 0, 0, 0, 0, 0, 0, 0, 0, 0, 0, 0, 0, 0, 0, 0, 0,\n",
       "         0, 0, 0, 0, 0, 0, 0, 0, 0, 0, 0, 0, 0, 0, 0, 0, 0, 0, 0, 0, 0, 0,\n",
       "         0, 0, 0, 0, 0, 0, 0, 0, 0, 0, 0]]),\n",
       " array([[[[[[-0.21563247, -0.21563247, -0.21563247, ..., -0.65358526,\n",
       "             -0.65358526, -0.65358526],\n",
       "            [-0.2302309 , -0.2302309 , -0.2302309 , ..., -0.63898683,\n",
       "             -0.65358526, -0.65358526],\n",
       "            [-0.24482933, -0.24482933, -0.24482933, ..., -0.63898683,\n",
       "             -0.63898683, -0.65358526],\n",
       "            ...,\n",
       "            [ 0.38290307,  0.38290307,  0.38290307, ...,  0.71866685,\n",
       "              0.71866685,  0.71866685],\n",
       "            [ 0.38290307,  0.38290307,  0.38290307, ...,  0.70406842,\n",
       "              0.70406842,  0.70406842],\n",
       "            [ 0.38290307,  0.38290307,  0.38290307, ...,  0.70406842,\n",
       "              0.70406842,  0.70406842]],\n",
       " \n",
       "           [[-1.75209713, -1.75209713, -1.75209713, ..., -1.75209713,\n",
       "             -1.75209713, -1.75209713],\n",
       "            [-1.75209713, -1.75209713, -1.75209713, ..., -1.75209713,\n",
       "             -1.75209713, -1.75209713],\n",
       "            [-1.75209713, -1.75209713, -1.75209713, ..., -1.75209713,\n",
       "             -1.75209713, -1.75209713],\n",
       "            ...,\n",
       "            [-1.75209713, -1.75209713, -1.75209713, ..., -1.75209713,\n",
       "             -1.75209713, -1.75209713],\n",
       "            [-1.75209713, -1.75209713, -1.75209713, ..., -1.75209713,\n",
       "             -1.75209713, -1.75209713],\n",
       "            [-1.75209713, -1.75209713, -1.75209713, ..., -1.75209713,\n",
       "             -1.75209713, -1.75209713]],\n",
       " \n",
       "           [[-1.48021984, -1.48021984, -1.48021984, ..., -1.48021984,\n",
       "             -1.48021984, -1.48021984],\n",
       "            [-1.48021984, -1.48021984, -1.48021984, ..., -1.48021984,\n",
       "             -1.48021984, -1.48021984],\n",
       "            [-1.48021984, -1.48021984, -1.48021984, ..., -1.48021984,\n",
       "             -1.48021984, -1.48021984],\n",
       "            ...,\n",
       "            [-1.48021984, -1.48021984, -1.48021984, ..., -1.48021984,\n",
       "             -1.48021984, -1.48021984],\n",
       "            [-1.48021984, -1.48021984, -1.48021984, ..., -1.48021984,\n",
       "             -1.48021984, -1.48021984],\n",
       "            [-1.48021984, -1.48021984, -1.48021984, ..., -1.48021984,\n",
       "             -1.48021984, -1.48021984]]]]]]),\n",
       " array([[1]]))"
      ]
     },
     "execution_count": 6,
     "metadata": {},
     "output_type": "execute_result"
    }
   ],
   "source": [
    "res"
   ]
  }
 ],
 "metadata": {
  "kernelspec": {
   "display_name": "base",
   "language": "python",
   "name": "python3"
  },
  "language_info": {
   "codemirror_mode": {
    "name": "ipython",
    "version": 3
   },
   "file_extension": ".py",
   "mimetype": "text/x-python",
   "name": "python",
   "nbconvert_exporter": "python",
   "pygments_lexer": "ipython3",
   "version": "3.12.4"
  }
 },
 "nbformat": 4,
 "nbformat_minor": 2
}
